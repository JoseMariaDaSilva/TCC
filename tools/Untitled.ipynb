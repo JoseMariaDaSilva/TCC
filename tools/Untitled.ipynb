{
 "cells": [
  {
   "cell_type": "code",
   "execution_count": 1,
   "metadata": {},
   "outputs": [],
   "source": [
    "import os"
   ]
  },
  {
   "cell_type": "code",
   "execution_count": 15,
   "metadata": {},
   "outputs": [],
   "source": [
    "\n",
    "\n",
    "root = '\\\\'.join(os.path.abspath('.').split('\\\\')[:-1:])\n",
    "\n",
    "new_path = os.path.join(root, 'motores_registrados')"
   ]
  },
  {
   "cell_type": "code",
   "execution_count": 20,
   "metadata": {},
   "outputs": [
    {
     "data": {
      "text/plain": [
       "'C:\\\\Users\\\\ZZZZZZ\\\\Desktop\\\\projeto_dashboardApp\\\\motores_registrados\\\\XABLUU\\\\ensaios'"
      ]
     },
     "execution_count": 20,
     "metadata": {},
     "output_type": "execute_result"
    }
   ],
   "source": [
    "tag = 'XABLUU'\n",
    "en = 'ensaios'\n",
    "dirir = os.path.join(os.path.join(new_path,tag), 'ensaios')\n"
   ]
  },
  {
   "cell_type": "code",
   "execution_count": 22,
   "metadata": {},
   "outputs": [],
   "source": [
    "def search_destination_path(tag):\n",
    "    new_path = os.path.join(root, 'motores_registrados')\n",
    "    dirir = os.path.join(os.path.join(new_path,tag), 'ensaios')\n",
    "    return dirir"
   ]
  },
  {
   "cell_type": "code",
   "execution_count": 23,
   "metadata": {},
   "outputs": [
    {
     "data": {
      "text/plain": [
       "'C:\\\\Users\\\\ZZZZZZ\\\\Desktop\\\\projeto_dashboardApp\\\\motores_registrados\\\\XABLU\\\\ensaios'"
      ]
     },
     "execution_count": 23,
     "metadata": {},
     "output_type": "execute_result"
    }
   ],
   "source": [
    "search_destination_path('XABLU')"
   ]
  }
 ],
 "metadata": {
  "kernelspec": {
   "display_name": "Python 3",
   "language": "python",
   "name": "python3"
  },
  "language_info": {
   "codemirror_mode": {
    "name": "ipython",
    "version": 3
   },
   "file_extension": ".py",
   "mimetype": "text/x-python",
   "name": "python",
   "nbconvert_exporter": "python",
   "pygments_lexer": "ipython3",
   "version": "3.6.7rc2"
  }
 },
 "nbformat": 4,
 "nbformat_minor": 2
}
