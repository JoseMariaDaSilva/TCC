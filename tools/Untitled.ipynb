{
 "cells": [
  {
   "cell_type": "code",
   "execution_count": 2,
   "metadata": {},
   "outputs": [],
   "source": [
    "import os"
   ]
  },
  {
   "cell_type": "code",
   "execution_count": 38,
   "metadata": {},
   "outputs": [],
   "source": [
    "def make_dir_a_tag(tag):\n",
    "    \n",
    "    root = '\\\\'.join(os.path.abspath('.').split('\\\\')[:-1:])\n",
    "    motor = list(filter(lambda x: x=='motores_registrados', os.listdir(root)))[0]\n",
    "    motor_path = os.path.join(root, motor)\n",
    "    location_tag = os.path.join(motor_path, tag)\n",
    "    print(root)\n",
    "    print(motor)\n",
    "    print(motor_path)\n",
    "    print(location_tag)\n",
    "    \n",
    "    if not os.path.exists(tag):\n",
    "        os.makedirs(os.path.join(location_tag,'dataset'))\n",
    "        print(os.path.join(location_tag,'dataset'))"
   ]
  },
  {
   "cell_type": "code",
   "execution_count": 39,
   "metadata": {},
   "outputs": [
    {
     "name": "stdout",
     "output_type": "stream",
     "text": [
      "C:\\Users\\ZZZZZZ\\Desktop\\projeto_dashboardApp\n",
      "motores_registrados\n",
      "C:\\Users\\ZZZZZZ\\Desktop\\projeto_dashboardApp\\motores_registrados\n",
      "C:\\Users\\ZZZZZZ\\Desktop\\projeto_dashboardApp\\motores_registrados\\xx4\n",
      "C:\\Users\\ZZZZZZ\\Desktop\\projeto_dashboardApp\\motores_registrados\\xx4\\dataset\n"
     ]
    }
   ],
   "source": [
    "make_dir_a_tag('xx4')"
   ]
  }
 ],
 "metadata": {
  "kernelspec": {
   "display_name": "Python 3",
   "language": "python",
   "name": "python3"
  },
  "language_info": {
   "codemirror_mode": {
    "name": "ipython",
    "version": 3
   },
   "file_extension": ".py",
   "mimetype": "text/x-python",
   "name": "python",
   "nbconvert_exporter": "python",
   "pygments_lexer": "ipython3",
   "version": "3.6.7rc2"
  }
 },
 "nbformat": 4,
 "nbformat_minor": 2
}
